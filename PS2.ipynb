{
 "cells": [
  {
   "cell_type": "markdown",
   "id": "98ede725",
   "metadata": {},
   "source": [
    "## Question 1\n",
    "#### What value is displayed when the last expression (a) is evaluated? Explain your answer by indicating what happens in every executed statement. "
   ]
  },
  {
   "cell_type": "code",
   "execution_count": 5,
   "id": "dbd74ba3",
   "metadata": {},
   "outputs": [
    {
     "data": {
      "text/plain": [
       "6"
      ]
     },
     "execution_count": 5,
     "metadata": {},
     "output_type": "execute_result"
    }
   ],
   "source": [
    "a = 0\n",
    "\n",
    "def b():\n",
    " global a\n",
    " a = c(a)\n",
    "\n",
    "def c(a):\n",
    " return a + 2\n",
    "\n",
    "b()\n",
    "b()\n",
    "b()\n",
    "a"
   ]
  },
  {
   "cell_type": "markdown",
   "id": "5a7f6f69",
   "metadata": {},
   "source": [
    "#### Explanation\n",
    "\n",
    "The provided code yields a result of 6 by executing a sequence of actions. Initially, the variable \"a\" is set to 0. The code defines two functions: \"b\" and \"c.\" Function \"b\" modifies \"a\" by assigning the result of calling \"c\" with the current value of \"a.\" Function \"c\" increments its parameter \"a\" by 2 and returns the updated value. The code consecutively calls \"b\" three times, updating \"a\" to 2, then 4, and finally 6. After the calls, the value of \"a\" is printed as the final outcome.\n",
    "\n"
   ]
  },
  {
   "cell_type": "markdown",
   "id": "2e00bff0",
   "metadata": {},
   "source": [
    "## Question 2\n",
    "#### Modify function fileLength() so that a friendly message is printed instead: "
   ]
  },
  {
   "cell_type": "code",
   "execution_count": 14,
   "id": "a5ccae84",
   "metadata": {},
   "outputs": [
    {
     "name": "stdout",
     "output_type": "stream",
     "text": [
      "384\n",
      "File idterm.py not found.\n"
     ]
    }
   ],
   "source": [
    "def file_length(file_name):\n",
    "    try:\n",
    "        file = open(file_name)\n",
    "        contents = file.read()\n",
    "        file.close()\n",
    "        return len(contents)\n",
    "    except FileNotFoundError: # The try-except block will make sure that the errors are now handled\n",
    "        print(f\"File {file_name} not found.\")\n",
    "\n",
    "print(file_length('midterm.py'))\n",
    "file_length('idterm.py')"
   ]
  },
  {
   "cell_type": "markdown",
   "id": "2cd19358",
   "metadata": {},
   "source": [
    "## Question 3\n",
    "#### Write a class named Marsupial "
   ]
  },
  {
   "cell_type": "code",
   "execution_count": 23,
   "id": "c509cb86",
   "metadata": {},
   "outputs": [
    {
     "name": "stdout",
     "output_type": "stream",
     "text": [
      "\n",
      "['doll', 'firetruck', 'kitten']\n",
      "I am a Kangaroo located at coordinates (0,0)\n",
      "['doll', 'firetruck', 'kitten']\n",
      "I am a Kangaroo located at coordinates (3,0)\n"
     ]
    }
   ],
   "source": [
    "class Marsupial:\n",
    "    pouch = [] \n",
    "    \n",
    "    def put_in_pouch(self, item):        \n",
    "        self.pouch.append(item)        \n",
    "        \n",
    "    def pouch_contents(self):\n",
    "        print(self.pouch)\n",
    "    \n",
    "    def __init__(self):\n",
    "        print('')\n",
    "        \n",
    "        \n",
    "class Kangaroo(Marsupial):\n",
    "    pouch = []\n",
    "\n",
    "    def __init__(self, x_coord=0, y_coord=0):\n",
    "        #'initialize coordinates to (x_coord, y_coord)'\n",
    "        self.x = x_coord\n",
    "        self.y = y_coord\n",
    "          \n",
    "    def jump(self, dx, dy):\n",
    "        #'change the x and y coordinates by dx and dy'\n",
    "        self.x += dx\n",
    "        self.y += dy\n",
    "        #print(\"I am a Kangaroo located at coordinates\", (self.x, self.y))        \n",
    "           \n",
    "    def __str__(self):\n",
    "        # By default, the sign of a positive number is not displayed.\n",
    "        # Using `+`, the sign is always displayed.\n",
    "        return f'I am a Kangaroo located at coordinates ({self.x},{self.y})'\n",
    "\n",
    "            \n",
    "m = Marsupial()\n",
    "m.put_in_pouch('doll')\n",
    "m.put_in_pouch('firetruck')\n",
    "m.put_in_pouch('kitten')\n",
    "m.pouch_contents()\n",
    "\n",
    "k = Kangaroo(0, 0)\n",
    "print(k)\n",
    "k.put_in_pouch('doll')\n",
    "k.put_in_pouch('firetruck')\n",
    "k.put_in_pouch('kitten')\n",
    "k.pouch_contents()\n",
    "k.jump(1, 0)\n",
    "k.jump(1, 0)\n",
    "k.jump(1, 0)\n",
    "print(k)\n",
    "#k.get()\n"
   ]
  },
  {
   "cell_type": "markdown",
   "id": "c9402cd3",
   "metadata": {},
   "source": [
    "## Question 4\n",
    "#### Write function collatz()"
   ]
  },
  {
   "cell_type": "code",
   "execution_count": 5,
   "id": "9948f811",
   "metadata": {},
   "outputs": [
    {
     "name": "stdout",
     "output_type": "stream",
     "text": [
      "collatz of 1 is \n",
      "\n",
      "1\n",
      "\n",
      "collatz of 10 is \n",
      "\n",
      "10\n",
      "5\n",
      "16\n",
      "8\n",
      "4\n",
      "2\n",
      "1\n"
     ]
    }
   ],
   "source": [
    "def collatz(x):\n",
    "    x = int(x)\n",
    "    \n",
    "    if x<=1:\n",
    "        print(x)    \n",
    "    \n",
    "    elif x%2 == 0:\n",
    "        print (x)\n",
    "        collatz(x/2)\n",
    "    \n",
    "    else:\n",
    "        print(x)\n",
    "        collatz(3*x+1)\n",
    "\n",
    "print(\"collatz of 1 is \\n\")\n",
    "collatz(1)\n",
    "print(\"\\ncollatz of 10 is \\n\")\n",
    "collatz(10)\n",
    "    "
   ]
  },
  {
   "cell_type": "markdown",
   "id": "eb884304",
   "metadata": {},
   "source": [
    "## Question 5\n",
    "#### Write a recursive method binary()"
   ]
  },
  {
   "cell_type": "code",
   "execution_count": 38,
   "id": "72f8311e",
   "metadata": {},
   "outputs": [
    {
     "name": "stdout",
     "output_type": "stream",
     "text": [
      "Binary of 0 is 0\n",
      "Binary of 1 is\n",
      "1\n",
      "Binary of 3 is\n",
      "11\n",
      "Binary of 9 is\n",
      "1001"
     ]
    }
   ],
   "source": [
    "def binary(num):\n",
    "     \n",
    "    if (num == 0):\n",
    "        return '0'\n",
    "    \n",
    "    elif num >= 1:\n",
    "        binary(num // 2)\n",
    "    print(num % 2, end = '')\n",
    "    \n",
    "    \n",
    "    \n",
    "\n",
    "k = binary(0)\n",
    "print(\"Binary of 0 is\",k)\n",
    "print(\"Binary of 1 is\")\n",
    "binary(1)\n",
    "print(\"\\nBinary of 3 is\")\n",
    "binary(3)\n",
    "print(\"\\nBinary of 9 is\")\n",
    "binary(9)"
   ]
  },
  {
   "cell_type": "markdown",
   "id": "6007374c",
   "metadata": {},
   "source": [
    "## Question 8\n",
    "#### Write SQL queries "
   ]
  },
  {
   "cell_type": "code",
   "execution_count": 27,
   "id": "5d97ec7b",
   "metadata": {},
   "outputs": [],
   "source": [
    "import sqlite3\n",
    "\n",
    "# connect to database\n",
    "conn = sqlite3.connect('weather123456.db')\n",
    "\n",
    "# create cursor object\n",
    "c = conn.cursor()\n",
    "\n",
    "# create table \n",
    "c.execute('CREATE TABLE weatherdata(City TEXT,Country TEXT,Season TEXT,Temperature REAL,Rainfall REAL)')\n",
    "\n",
    "# inserting data \n",
    "data = [('Mumbai', 'India', 'Winter', 24.8, 5.9),\n",
    "                ('Mumbai', 'India', 'Spring', 28.4, 16.2),\n",
    "                ('Mumbai', 'India', 'Summer', 27.9, 1549.4),\n",
    "                ('Mumbai', 'India', 'Fall', 27.6, 346.0),\n",
    "                ('London', 'United Kingdom', 'Winter', 4.2, 207.7),\n",
    "                ('London', 'United Kingdom', 'Spring', 8.3, 169.6),\n",
    "                ('London', 'United Kingdom', 'Summer', 15.7, 157.0),\n",
    "                ('London', 'United Kingdom', 'Fall', 10.4, 218.5),\n",
    "                ('Cairo', 'Egypt', 'Winter', 13.6, 16.5),\n",
    "                ('Cairo', 'Egypt', 'Spring', 20.7, 6.5),\n",
    "                ('Cairo', 'Egypt', 'Summer', 27.7, 0.1),\n",
    "                ('Cairo', 'Egypt', 'Fall', 22.2, 4.5)]\n",
    "c.executemany('INSERT INTO weatherdata VALUES (?, ?, ?, ?, ?)', data)\n",
    "\n",
    "# commit changes and close connection\n",
    "conn.commit()"
   ]
  },
  {
   "cell_type": "markdown",
   "id": "acff424d",
   "metadata": {},
   "source": [
    "##### a) All the temperature data."
   ]
  },
  {
   "cell_type": "code",
   "execution_count": 30,
   "id": "99df2370",
   "metadata": {},
   "outputs": [
    {
     "name": "stdout",
     "output_type": "stream",
     "text": [
      "[(24.8,), (28.4,), (27.9,), (27.6,), (4.2,), (8.3,), (15.7,), (10.4,), (13.6,), (20.7,), (27.7,), (22.2,)]\n"
     ]
    }
   ],
   "source": [
    "c.execute('SELECT Temperature FROM weatherdata')\n",
    "temperature = c.fetchall()\n",
    "print(temperature)"
   ]
  },
  {
   "cell_type": "markdown",
   "id": "e382f6d3",
   "metadata": {},
   "source": [
    "#### b) All the cities, but without repetition."
   ]
  },
  {
   "cell_type": "code",
   "execution_count": 31,
   "id": "0f35f6e4",
   "metadata": {},
   "outputs": [
    {
     "name": "stdout",
     "output_type": "stream",
     "text": [
      "[('Mumbai',), ('London',), ('Cairo',)]\n"
     ]
    }
   ],
   "source": [
    "c.execute('SELECT DISTINCT City FROM weatherdata')\n",
    "city = c.fetchall()\n",
    "print(city)"
   ]
  },
  {
   "cell_type": "markdown",
   "id": "afbd1cb2",
   "metadata": {},
   "source": [
    "###### c)All the records for India. \n"
   ]
  },
  {
   "cell_type": "code",
   "execution_count": 32,
   "id": "1da9a334",
   "metadata": {},
   "outputs": [
    {
     "name": "stdout",
     "output_type": "stream",
     "text": [
      "[('Mumbai', 'India', 'Winter', 24.8, 5.9), ('Mumbai', 'India', 'Spring', 28.4, 16.2), ('Mumbai', 'India', 'Summer', 27.9, 1549.4), ('Mumbai', 'India', 'Fall', 27.6, 346.0)]\n"
     ]
    }
   ],
   "source": [
    "c.execute(\"SELECT * FROM weatherdata WHERE Country = 'India'\")\n",
    "indrec = c.fetchall()\n",
    "print(indrec)"
   ]
  },
  {
   "cell_type": "markdown",
   "id": "23746616",
   "metadata": {},
   "source": [
    "###### d)All the Fall records."
   ]
  },
  {
   "cell_type": "code",
   "execution_count": 36,
   "id": "b039aff1",
   "metadata": {},
   "outputs": [
    {
     "name": "stdout",
     "output_type": "stream",
     "text": [
      "[('Mumbai', 'India', 'Fall', 27.6, 346.0), ('London', 'United Kingdom', 'Fall', 10.4, 218.5), ('Cairo', 'Egypt', 'Fall', 22.2, 4.5)]\n"
     ]
    }
   ],
   "source": [
    "c.execute(\"SELECT * FROM weatherdata WHERE Season = 'Fall'\")\n",
    "falrec = c.fetchall()\n",
    "print(falrec)"
   ]
  },
  {
   "cell_type": "markdown",
   "id": "8de71ebd",
   "metadata": {},
   "source": [
    "###### e)The city, country, and season for which the average rainfall is between 200 and 400 millimeters. \n"
   ]
  },
  {
   "cell_type": "code",
   "execution_count": 37,
   "id": "b1402a54",
   "metadata": {},
   "outputs": [
    {
     "name": "stdout",
     "output_type": "stream",
     "text": [
      "[('London', 'United Kingdom', 'Fall'), ('London', 'United Kingdom', 'Winter'), ('Mumbai', 'India', 'Fall')]\n"
     ]
    }
   ],
   "source": [
    "c.execute(\"SELECT City, Country, Season FROM weatherdata WHERE Rainfall BETWEEN 200 AND 400 GROUP BY City, Country, Season\")\n",
    "rainrec = c.fetchall()\n",
    "print(rainrec)"
   ]
  },
  {
   "cell_type": "markdown",
   "id": "9c7191b9",
   "metadata": {},
   "source": [
    "###### f)The city and country for which the average Fall temperature is above 20 degrees, in increasing temperature order.\n"
   ]
  },
  {
   "cell_type": "code",
   "execution_count": 39,
   "id": "1349d400",
   "metadata": {},
   "outputs": [
    {
     "name": "stdout",
     "output_type": "stream",
     "text": [
      "[('Cairo', 'Egypt'), ('Mumbai', 'India')]\n"
     ]
    }
   ],
   "source": [
    "c.execute(\"SELECT City, Country FROM weatherdata WHERE Season = 'Fall' GROUP BY City, Country HAVING AVG(Temperature) > 20 ORDER BY AVG(Temperature) ASC\")\n",
    "farec = c.fetchall()\n",
    "print(farec)"
   ]
  },
  {
   "cell_type": "markdown",
   "id": "4269b29c",
   "metadata": {},
   "source": [
    "###### g)The total annual rainfall for Cairo.\n"
   ]
  },
  {
   "cell_type": "code",
   "execution_count": 42,
   "id": "bb253e34",
   "metadata": {},
   "outputs": [
    {
     "name": "stdout",
     "output_type": "stream",
     "text": [
      "27.6\n"
     ]
    }
   ],
   "source": [
    "c.execute(\"SELECT SUM(Rainfall) AS Total_Rainfall FROM weatherdata WHERE City = 'Cairo'\")\n",
    "cairorain = c.fetchone()[0]\n",
    "print(cairorain)"
   ]
  },
  {
   "cell_type": "markdown",
   "id": "c6c72a3a",
   "metadata": {},
   "source": [
    "###### h)The total rainfall for each season. "
   ]
  },
  {
   "cell_type": "code",
   "execution_count": 43,
   "id": "e0878b34",
   "metadata": {},
   "outputs": [
    {
     "name": "stdout",
     "output_type": "stream",
     "text": [
      "[('Fall', 569.0), ('Spring', 192.29999999999998), ('Summer', 1706.5), ('Winter', 230.1)]\n"
     ]
    }
   ],
   "source": [
    "c.execute(\"SELECT Season, SUM(Rainfall) AS Total_Rainfall FROM weatherdata GROUP BY Season\")\n",
    "seasrain = c.fetchall()\n",
    "print(seasrain)"
   ]
  },
  {
   "cell_type": "markdown",
   "id": "d0836304",
   "metadata": {},
   "source": [
    "###### a)All the temperature data.\n",
    "\n",
    "Select Temperature from weatherdata;\n",
    "\n",
    "###### b)All the cities, but without repetition. \n",
    "\n",
    "Select distinct city from weatherdata;\n",
    "\n",
    "###### c)All the records for India. \n",
    "\n",
    "Select * from weatherdata where country = 'India';\n",
    "\n",
    "###### d)All the Fall records.\n",
    "\n",
    "Select * from weatherdata where season = 'Fall';\n",
    "\n",
    "###### e)The city, country, and season for which the average rainfall is between 200 and 400 millimeters. \n",
    "\n",
    "Select City, Country, Season from weatherdata group by City, Country, Season having avg(rainfall) between 200 and 400;\n",
    "\n",
    "###### f)The city and country for which the average Fall temperature is above 20 degrees, in increasing temperature order.\n",
    "\n",
    "Select City, Country from weatherdata group by City, Country having avg(temperature) > 20 order by temperature;\n",
    "\n",
    "###### g)The total annual rainfall for Cairo.\n",
    "\n",
    "Select City, Sum(Rainfall) from weatherdata where city = 'Cairo' group by city ;\n",
    "\n",
    "###### h)The total rainfall for each season. \n",
    "\n",
    "Select Season, Sum(Rainfall) from weatherdata group by Season ;"
   ]
  },
  {
   "cell_type": "markdown",
   "id": "b2f1c11a",
   "metadata": {},
   "source": [
    "## Question 9\n",
    "#### Write a list comprehension"
   ]
  },
  {
   "cell_type": "code",
   "execution_count": 45,
   "id": "f9f3b985",
   "metadata": {},
   "outputs": [
    {
     "name": "stdout",
     "output_type": "stream",
     "text": [
      "['THE', 'QUICK', 'BROWN', 'FOX', 'JUMPS', 'OVER', 'THE', 'LAZY', 'DOG']\n",
      "['the', 'quick', 'brown', 'fox', 'jumps', 'over', 'the', 'lazy', 'dog']\n",
      "[3, 5, 5, 3, 5, 4, 3, 4, 3]\n",
      "[['THE', 'the', 3], ['QUICK', 'quick', 5], ['BROWN', 'brown', 5], ['FOX', 'fox', 3], ['JUMPS', 'jumps', 5], ['OVER', 'over', 4], ['THE', 'the', 3], ['LAZY', 'lazy', 4], ['DOG', 'dog', 3]]\n",
      "['quick', 'brown', 'jumps', 'over', 'lazy']\n"
     ]
    }
   ],
   "source": [
    "words = ['The', 'quick', 'brown', 'fox', 'jumps', 'over', 'the', 'lazy', 'dog']\n",
    "upperList = []\n",
    "lowerList = []\n",
    "lengthList = []\n",
    "combinedList = []\n",
    "filteredList = []\n",
    "\n",
    "for word in range(len(words)):\n",
    "    upperList.append(words[word].upper())\n",
    "print(upperList)\n",
    "\n",
    "for word in range(len(words)):\n",
    "    lowerList.append(words[word].lower())\n",
    "print(lowerList)\n",
    "\n",
    "for word in range(len(words)):\n",
    "    lengthList.append(len(words[word]))\n",
    "print(lengthList)\n",
    "\n",
    "for word in range(len(words)):\n",
    "    combinedList.append([words[word].upper(), words[word].lower(), len(words[word])])\n",
    "print(combinedList)\n",
    "\n",
    "for word in words:\n",
    "    if len(word) >= 4:\n",
    "        filteredList.append(word.lower())\n",
    "print(filteredList)"
   ]
  }
 ],
 "metadata": {
  "kernelspec": {
   "display_name": "Python 3 (ipykernel)",
   "language": "python",
   "name": "python3"
  },
  "language_info": {
   "codemirror_mode": {
    "name": "ipython",
    "version": 3
   },
   "file_extension": ".py",
   "mimetype": "text/x-python",
   "name": "python",
   "nbconvert_exporter": "python",
   "pygments_lexer": "ipython3",
   "version": "3.10.11"
  }
 },
 "nbformat": 4,
 "nbformat_minor": 5
}
